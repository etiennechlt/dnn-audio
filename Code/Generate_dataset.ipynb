{
 "cells": [
  {
   "cell_type": "code",
   "execution_count": 1,
   "metadata": {},
   "outputs": [],
   "source": [
    "import torch\n",
    "import torchaudio\n",
    "import matplotlib.pyplot as plt\n",
    "import os\n",
    "from fonctions import *\n",
    "from sklearn.preprocessing import normalize"
   ]
  },
  {
   "cell_type": "code",
   "execution_count": 5,
   "metadata": {},
   "outputs": [],
   "source": [
    "# waveform, sample_rate = torchaudio.load(\"../Data/meme_taille_TEST/sig_1_10.WAV\")\n",
    "# spec_br, f_br, t_br, im_br = plt.specgram(waveform[0].t().numpy(), Fs = sample_rate, NFFT = 512, scale_by_freq = False, mode = 'magnitude', cmap = 'gray', scale='dB')\n",
    "# spec_br, f_br, t_br, im_br = plt.specgram(waveform[0].t().numpy(), Fs = sample_rate, NFFT = 512, scale_by_freq = False, mode = 'psd', cmap = 'gray', scale='dB')"
   ]
  },
  {
   "cell_type": "code",
   "execution_count": 4,
   "metadata": {},
   "outputs": [],
   "source": [
    "\n",
    "# spec_db = 10*np.log10(spec_br)\n",
    "# # img = normalize(spec_db, norm='l2')\n",
    "# plt.imshow(spec_db, cmap='gray', aspect='auto', origin='lower')\n",
    "# spec_db\n",
    "# np.min(spec_db)\n",
    "# np.max(spec_db)\n",
    "# img\n",
    "# plt.pcolormesh(t_br, f_br, spec_db, cmap='gray')"
   ]
  },
  {
   "cell_type": "code",
   "execution_count": 1,
   "metadata": {},
   "outputs": [],
   "source": [
    "from fonctions import *\n",
    "\n",
    "######################### MEME TAILLE DE SIGNAUX\n",
    "\n",
    "### Il faut d'abord créer le dossier meme_taille_TRAIN_1\n",
    "\n",
    "# taille_sig(\"../Data/speech_TRAIN_1/TIMIT_TRAIN_1/DR1\")\n",
    "# taille_sig(\"../Data/speech_TRAIN_1/TIMIT_TRAIN_1/DR2\")\n",
    "# taille_sig(\"../Data/speech_TRAIN_1/TIMIT_TRAIN_1/DR3\")\n",
    "# taille_sig(\"../Data/speech_TRAIN_1/TIMIT_TRAIN_1/DR4\")\n",
    "\n",
    "\n",
    "### Il faut d'abord créer le dossier meme_taille_TRAIN_2\n",
    "\n",
    "# taille_sig(\"../Data/speech_TRAIN_2/TIMIT_TRAIN_2/DR5\")\n",
    "# taille_sig(\"../Data/speech_TRAIN_2/TIMIT_TRAIN_2/DR6\")\n",
    "# taille_sig(\"../Data/speech_TRAIN_2/TIMIT_TRAIN_2/DR7\")\n",
    "# taille_sig(\"../Data/speech_TRAIN_2/TIMIT_TRAIN_2/DR8\")\n",
    "\n",
    "\n",
    "# taille_sig(\"../Data/speech_TEST/TIMIT_TEST/DR1\")\n",
    "# taille_sig(\"../Data/speech_TEST/TIMIT_TEST/DR2\")\n",
    "# taille_sig(\"../Data/speech_TEST/TIMIT_TEST/DR3\")\n",
    "# taille_sig(\"../Data/speech_TEST/TIMIT_TEST/DR4\")\n",
    "# taille_sig(\"../Data/speech_TEST/TIMIT_TEST/DR5\")\n",
    "# taille_sig(\"../Data/speech_TEST/TIMIT_TEST/DR6\")\n",
    "# taille_sig(\"../Data/speech_TEST/TIMIT_TEST/DR7\")\n",
    "# taille_sig(\"../Data/speech_TEST/TIMIT_TEST/DR8\")"
   ]
  },
  {
   "cell_type": "code",
   "execution_count": 3,
   "metadata": {},
   "outputs": [],
   "source": [
    "####################### SIGNAUX NON BRUITÉS\n",
    "\n",
    "# for subdir, dirs, files in os.walk(\"../Data/meme_taille_TEST\"):\n",
    "#     for file in files:\n",
    "#             subpath = os.path.join(subdir, file)\n",
    "#             waveform, sample_rate = torchaudio.load(subpath)\n",
    "#             spec, f, t, im = plt.specgram(waveform[0].t().numpy(), Fs = sample_rate, NFFT = 512, scale_by_freq = True, mode = 'psd', cmap = 'gray')\n",
    "            \n",
    "#             #on ajoute le spectro au dossier\n",
    "             \n",
    "#             path_list = subpath.split(\"/\")\n",
    "#             br_name = 'nb_' + path_list[3][:-3] + 'npy'\n",
    "\n",
    "#             np.save('../Data/sig/non_bruité/' + br_name, spec.astype(np.float32))\n",
    "\n",
    "            \n",
    "######################## BRUITAGE DES SIGNAUX\n",
    "\n",
    "# RSB = input('entrer le RSB voulu')\n",
    "# bruit, sample_rate_bruit = torchaudio.load(\"../Data/babble.wav\")\n",
    "# bruit_rs = torchaudio.transforms.Resample(sample_rate_bruit, 16000)(bruit)\n",
    "# for subdir, dirs, files in os.walk(\"../Data/meme_taille_TRAIN\"):\n",
    "#     for file in files:\n",
    "#         if ('.WAV' in file):\n",
    "#             subpath = os.path.join(subdir, file)\n",
    "#             save_bruit(subpath, bruit, bruit_rs, RSB)\n",
    "   "
   ]
  },
  {
   "cell_type": "code",
   "execution_count": 44,
   "metadata": {},
   "outputs": [
    {
     "name": "stdout",
     "output_type": "stream",
     "text": [
      "[[1.72500000e+03 1.34301865e-02 1.16850365e+02]]\n"
     ]
    }
   ],
   "source": [
    "import os\n",
    "import numpy as np\n",
    "\n",
    "dataset_path = \"../Data/Spec_TEST_SNR_5/Noisy/\"\n",
    "i=0\n",
    "list_norm = np.ndarray((1,3))\n",
    "print(list_norm)\n",
    "# Compute the norm of the modulus spectrogram\n",
    "for subdir, dirs, files in os.walk(dataset_path):\n",
    "    for file in files:\n",
    "        if ('mod' in file):\n",
    "            subpath = os.path.join(subdir, file)\n",
    "#             print(subpath, file)\n",
    "            spec = np.load(subpath)\n",
    "            norm = np.max(spec) - np.min(spec)\n",
    "            spec_db = 20*np.log10(spec/norm)\n",
    "            norm_db = np.max(spec_db) - np.min(spec_db)\n",
    "            list_norm = np.append(list_norm, [[i, norm, norm_db]], axis=0)\n",
    "            i+=1\n",
    "np.save(dataset_path + \"list_spec_norm.npy\", list_norm.astype(np.float32))"
   ]
  },
  {
   "cell_type": "code",
   "execution_count": 29,
   "metadata": {},
   "outputs": [
    {
     "name": "stdout",
     "output_type": "stream",
     "text": [
      "[[4.72500000e+03 5.94142079e-02 1.21754272e+02]\n",
      " [0.00000000e+00 1.95891224e-02 1.25798424e+02]\n",
      " [1.00000000e+00 2.25216392e-02 1.20307243e+02]\n",
      " ...\n",
      " [4.72300000e+03 2.99428739e-02 1.24949059e+02]\n",
      " [4.72400000e+03 4.08700593e-02 1.25738182e+02]\n",
      " [4.72500000e+03 5.94142079e-02 1.21754272e+02]]\n"
     ]
    },
    {
     "data": {
      "text/plain": [
       "array([0.00000000e+00, 1.95891224e-02, 1.25798424e+02])"
      ]
     },
     "execution_count": 29,
     "metadata": {},
     "output_type": "execute_result"
    }
   ],
   "source": [
    "# list_norm = np.load(dataset_path+\"Noisylist_spec_norm.npy\")\n",
    "print(list_norm)\n",
    "np.shape(list_norm)\n",
    "list_norm[1]"
   ]
  },
  {
   "cell_type": "code",
   "execution_count": 43,
   "metadata": {},
   "outputs": [
    {
     "name": "stdout",
     "output_type": "stream",
     "text": [
      "[[0.55476797 0.41013914 0.32171702 ... 0.5129604  0.42601466 0.2949809 ]\n",
      " [0.3910214  0.48807684 0.3718132  ... 0.45932534 0.38871694 0.3404663 ]\n",
      " [0.43843675 0.50416005 0.4323509  ... 0.46255192 0.4573531  0.48955622]\n",
      " ...\n",
      " [0.68997747 0.72417617 0.68307227 ... 0.4476844  0.5921465  0.6256158 ]\n",
      " [0.67373127 0.82700855 0.7160547  ... 0.45603585 0.5707016  0.6354817 ]\n",
      " [0.678759   0.80146503 0.673226   ... 0.45452484 0.54818386 0.63006467]]\n"
     ]
    }
   ],
   "source": [
    "filename = \"n_sig_1_0_mod.npy\"\n",
    "spec = np.load(dataset_path+\"Modulus/Data/\"+filename)\n",
    "spec_db=-20*np.log10(spec/list_norm[1][1])/list_norm[1][2]\n",
    "print(spec_db)"
   ]
  },
  {
   "cell_type": "code",
   "execution_count": null,
   "metadata": {},
   "outputs": [],
   "source": []
  }
 ],
 "metadata": {
  "kernelspec": {
   "display_name": "Python 3",
   "language": "python",
   "name": "python3"
  },
  "language_info": {
   "codemirror_mode": {
    "name": "ipython",
    "version": 3
   },
   "file_extension": ".py",
   "mimetype": "text/x-python",
   "name": "python",
   "nbconvert_exporter": "python",
   "pygments_lexer": "ipython3",
   "version": "3.8.5"
  }
 },
 "nbformat": 4,
 "nbformat_minor": 4
}
