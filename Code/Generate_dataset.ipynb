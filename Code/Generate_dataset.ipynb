{
 "cells": [
  {
   "cell_type": "code",
   "execution_count": 1,
   "metadata": {},
   "outputs": [],
   "source": [
    "import torch\n",
    "import torchaudio\n",
    "import matplotlib.pyplot as plt\n",
    "import os\n",
    "from fonctions import *\n",
    "from sklearn.preprocessing import normalize"
   ]
  },
  {
   "cell_type": "code",
   "execution_count": 11,
   "metadata": {},
   "outputs": [],
   "source": [
    "waveform, sample_rate = torchaudio.load(\"../Data/meme_taille_TEST/sig_1_10.WAV\")\n",
    "spec_br, f_br, t_br, im_br = plt.specgram(waveform[0].t().numpy(), Fs = sample_rate, NFFT = 512, scale_by_freq = False, mode = 'magnitude', cmap = 'gray', scale='dB')\n",
    "spec_br, f_br, t_br, im_br = plt.specgram(waveform[0].t().numpy(), Fs = sample_rate, NFFT = 512, scale_by_freq = False, mode = 'psd', cmap = 'gray', scale='dB')\n",
    "parameters = np.array([sample_rate, t_br, f_br])\n",
    "np.save(\"../Data/parameters.npy\", parameters)"
   ]
  },
  {
   "cell_type": "code",
   "execution_count": 1,
   "metadata": {},
   "outputs": [],
   "source": [
    "######################### CREATION DES SIGNAUX DE MEME TAILLE\n",
    "\n",
    "from fonctions import *\n",
    "\n",
    "### Il faut d'abord créer le dossier meme_taille_TRAIN_1\n",
    "\n",
    "taille_sig(\"../Data/speech_TRAIN_1/TIMIT_TRAIN_1/DR1\")\n",
    "taille_sig(\"../Data/speech_TRAIN_1/TIMIT_TRAIN_1/DR2\")\n",
    "taille_sig(\"../Data/speech_TRAIN_1/TIMIT_TRAIN_1/DR3\")\n",
    "taille_sig(\"../Data/speech_TRAIN_1/TIMIT_TRAIN_1/DR4\")\n",
    "\n",
    "\n",
    "### Il faut d'abord créer le dossier meme_taille_TRAIN_2\n",
    "\n",
    "taille_sig(\"../Data/speech_TRAIN_2/TIMIT_TRAIN_2/DR5\")\n",
    "taille_sig(\"../Data/speech_TRAIN_2/TIMIT_TRAIN_2/DR6\")\n",
    "taille_sig(\"../Data/speech_TRAIN_2/TIMIT_TRAIN_2/DR7\")\n",
    "taille_sig(\"../Data/speech_TRAIN_2/TIMIT_TRAIN_2/DR8\")\n",
    "\n",
    "### Il faut d'abord créer le dossier meme_taille_TEST\n",
    "\n",
    "taille_sig(\"../Data/speech_TEST/TIMIT_TEST/DR1\")\n",
    "taille_sig(\"../Data/speech_TEST/TIMIT_TEST/DR2\")\n",
    "taille_sig(\"../Data/speech_TEST/TIMIT_TEST/DR3\")\n",
    "taille_sig(\"../Data/speech_TEST/TIMIT_TEST/DR4\")\n",
    "taille_sig(\"../Data/speech_TEST/TIMIT_TEST/DR5\")\n",
    "taille_sig(\"../Data/speech_TEST/TIMIT_TEST/DR6\")\n",
    "taille_sig(\"../Data/speech_TEST/TIMIT_TEST/DR7\")\n",
    "taille_sig(\"../Data/speech_TEST/TIMIT_TEST/DR8\")"
   ]
  },
  {
   "cell_type": "code",
   "execution_count": 3,
   "metadata": {},
   "outputs": [],
   "source": [
    "####################### SIGNAUX NON BRUITÉS\n",
    "\n",
    "for subdir, dirs, files in os.walk(\"../Data/meme_taille_TEST\"):\n",
    "    for file in files:\n",
    "            subpath = os.path.join(subdir, file)\n",
    "            waveform, sample_rate = torchaudio.load(subpath)\n",
    "            spec, f, t, im = plt.specgram(waveform[0].t().numpy(), Fs = sample_rate, NFFT = 512, scale_by_freq = True, mode = 'psd', cmap = 'gray')\n",
    "            \n",
    "            #on ajoute le spectro au dossier\n",
    "             \n",
    "            path_list = subpath.split(\"/\")\n",
    "            br_name = 'nb_' + path_list[3][:-3] + 'npy'\n",
    "\n",
    "            np.save('../Data/sig/non_bruité/' + br_name, spec.astype(np.float32))\n",
    "\n",
    "            \n",
    "######################## BRUITAGE DES SIGNAUX\n",
    "\n",
    "RSB = input('entrer le RSB voulu')\n",
    "bruit, sample_rate_bruit = torchaudio.load(\"../Data/babble.wav\")\n",
    "bruit_rs = torchaudio.transforms.Resample(sample_rate_bruit, 16000)(bruit)\n",
    "for subdir, dirs, files in os.walk(\"../Data/meme_taille_TRAIN\"):\n",
    "    for file in files:\n",
    "        if ('.WAV' in file):\n",
    "            subpath = os.path.join(subdir, file)\n",
    "            save_bruit(subpath, bruit, bruit_rs, RSB)\n",
    "   "
   ]
  },
  {
   "cell_type": "code",
   "execution_count": 1,
   "metadata": {},
   "outputs": [
    {
     "name": "stdout",
     "output_type": "stream",
     "text": [
      "mini: -219.44876 maxi: -18.236767 norm: -201.21199\n"
     ]
    }
   ],
   "source": [
    "####################### CALCUL DE LA NORME DU DATASET\n",
    "\n",
    "import os\n",
    "import numpy as np\n",
    "\n",
    "dataset_path = \"../Data/Spec_TRAIN_SNR_5/Noisy/Modulus/\"\n",
    "\n",
    "i=0\n",
    "mini = 0\n",
    "maxi = -10000\n",
    "\n",
    "\n",
    "# Compute the norm of the modulus spectrogram\n",
    "for subdir, dirs, files in os.walk(dataset_path):\n",
    "    for file in files:\n",
    "        if ('mod' in file):\n",
    "            subpath = os.path.join(subdir, file)\n",
    "#             print(subpath, file)\n",
    "            spec = np.load(subpath)\n",
    "            spec_db = 20*np.log10(spec)\n",
    "            if (mini > np.min(spec_db)):\n",
    "                mini = np.min(spec_db)\n",
    "            if (maxi < np.max(spec_db)):\n",
    "                maxi = np.max(spec_db)\n",
    "            i+=1\n",
    "norm = mini-maxi\n",
    "print(\"mini:\", mini, \"maxi:\", maxi, \"norm:\", norm)\n",
    "np.save(dataset_path + \"minmax_db.npy\", np.array([mini, maxi, norm]).astype(np.float32))"
   ]
  },
  {
   "cell_type": "code",
   "execution_count": null,
   "metadata": {},
   "outputs": [],
   "source": []
  }
 ],
 "metadata": {
  "kernelspec": {
   "display_name": "Python 3",
   "language": "python",
   "name": "python3"
  },
  "language_info": {
   "codemirror_mode": {
    "name": "ipython",
    "version": 3
   },
   "file_extension": ".py",
   "mimetype": "text/x-python",
   "name": "python",
   "nbconvert_exporter": "python",
   "pygments_lexer": "ipython3",
   "version": "3.8.5"
  }
 },
 "nbformat": 4,
 "nbformat_minor": 4
}
